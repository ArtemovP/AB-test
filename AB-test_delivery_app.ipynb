{
 "cells": [
  {
   "cell_type": "markdown",
   "metadata": {},
   "source": [
    "Рассмотрим приложение по доставке продуктов. Команда внедрила в приложение умную систему рекомендации товаров – предполагается, что такая система поможет пользователям эффективнее работать с приложением и лучше находить необходимые товары.\n",
    "\n",
    "Чтобы проверить эффективность системы рекомендаций, был проведен АБ-тест. В группе 1 оказались пользователи с новой системой рекомендаций, в группе 0 пользователи со старой версией приложения, где нет рекомендации товаров.\n",
    "\n",
    "Наша задача – оценить, смогла ли новая система рекомендаций принести пользу бизнесу и пользователям приложения. Для этого нужно выбрать метрики, которые отвечают за качество сервиса, и статистически сравнить эти метрики в двух группах.\n",
    "\n",
    "Результат работы – аналитическое заключение с ответом на вопрос, стоит ли включать новую систему рекомендаций на всех пользователей."
   ]
  },
  {
   "cell_type": "code",
   "execution_count": null,
   "metadata": {},
   "outputs": [],
   "source": [
    "import pandas as pd\n",
    "import numpy as np\n",
    "\n",
    "import seaborn as sns\n",
    "import matplotlib.pyplot as plt\n",
    "\n",
    "%matplotlib inline\n",
    "from scipy.stats import iqr\n",
    "import scipy\n",
    "from scipy import stats\n",
    "import pingouin as pg\n",
    "from scipy.stats import chi2_contingency"
   ]
  },
  {
   "cell_type": "markdown",
   "metadata": {},
   "source": [
    "Загрузим датасет с историей заказов пользователей, в этой таблице есть информация о том, какие заказы создавали и отменяли пользователи"
   ]
  },
  {
   "cell_type": "code",
   "execution_count": 70,
   "metadata": {},
   "outputs": [],
   "source": [
    "users = pd.read_csv('/mnt/HC_Volume_18315164/home-jupyter/jupyter-p-artemov/Statistic/Lesson_10/ab_users_data.csv')"
   ]
  },
  {
   "cell_type": "code",
   "execution_count": 71,
   "metadata": {},
   "outputs": [
    {
     "data": {
      "text/html": [
       "<div>\n",
       "<style scoped>\n",
       "    .dataframe tbody tr th:only-of-type {\n",
       "        vertical-align: middle;\n",
       "    }\n",
       "\n",
       "    .dataframe tbody tr th {\n",
       "        vertical-align: top;\n",
       "    }\n",
       "\n",
       "    .dataframe thead th {\n",
       "        text-align: right;\n",
       "    }\n",
       "</style>\n",
       "<table border=\"1\" class=\"dataframe\">\n",
       "  <thead>\n",
       "    <tr style=\"text-align: right;\">\n",
       "      <th></th>\n",
       "      <th>user_id</th>\n",
       "      <th>order_id</th>\n",
       "      <th>action</th>\n",
       "      <th>time</th>\n",
       "      <th>date</th>\n",
       "      <th>group</th>\n",
       "    </tr>\n",
       "  </thead>\n",
       "  <tbody>\n",
       "    <tr>\n",
       "      <th>0</th>\n",
       "      <td>964</td>\n",
       "      <td>1255</td>\n",
       "      <td>create_order</td>\n",
       "      <td>2022-08-26 00:00:19.000000</td>\n",
       "      <td>2022-08-26</td>\n",
       "      <td>0</td>\n",
       "    </tr>\n",
       "    <tr>\n",
       "      <th>1</th>\n",
       "      <td>965</td>\n",
       "      <td>1256</td>\n",
       "      <td>create_order</td>\n",
       "      <td>2022-08-26 00:02:21.000000</td>\n",
       "      <td>2022-08-26</td>\n",
       "      <td>1</td>\n",
       "    </tr>\n",
       "    <tr>\n",
       "      <th>2</th>\n",
       "      <td>964</td>\n",
       "      <td>1257</td>\n",
       "      <td>create_order</td>\n",
       "      <td>2022-08-26 00:02:27.000000</td>\n",
       "      <td>2022-08-26</td>\n",
       "      <td>0</td>\n",
       "    </tr>\n",
       "    <tr>\n",
       "      <th>3</th>\n",
       "      <td>966</td>\n",
       "      <td>1258</td>\n",
       "      <td>create_order</td>\n",
       "      <td>2022-08-26 00:02:56.000000</td>\n",
       "      <td>2022-08-26</td>\n",
       "      <td>0</td>\n",
       "    </tr>\n",
       "    <tr>\n",
       "      <th>4</th>\n",
       "      <td>967</td>\n",
       "      <td>1259</td>\n",
       "      <td>create_order</td>\n",
       "      <td>2022-08-26 00:03:37.000000</td>\n",
       "      <td>2022-08-26</td>\n",
       "      <td>1</td>\n",
       "    </tr>\n",
       "    <tr>\n",
       "      <th>...</th>\n",
       "      <td>...</td>\n",
       "      <td>...</td>\n",
       "      <td>...</td>\n",
       "      <td>...</td>\n",
       "      <td>...</td>\n",
       "      <td>...</td>\n",
       "    </tr>\n",
       "    <tr>\n",
       "      <th>4332</th>\n",
       "      <td>990</td>\n",
       "      <td>59422</td>\n",
       "      <td>create_order</td>\n",
       "      <td>2022-09-08 23:13:03.000000</td>\n",
       "      <td>2022-09-08</td>\n",
       "      <td>1</td>\n",
       "    </tr>\n",
       "    <tr>\n",
       "      <th>4333</th>\n",
       "      <td>1418</td>\n",
       "      <td>59439</td>\n",
       "      <td>create_order</td>\n",
       "      <td>2022-09-08 23:18:05.000000</td>\n",
       "      <td>2022-09-08</td>\n",
       "      <td>1</td>\n",
       "    </tr>\n",
       "    <tr>\n",
       "      <th>4334</th>\n",
       "      <td>1605</td>\n",
       "      <td>59464</td>\n",
       "      <td>create_order</td>\n",
       "      <td>2022-09-08 23:22:27.000000</td>\n",
       "      <td>2022-09-08</td>\n",
       "      <td>0</td>\n",
       "    </tr>\n",
       "    <tr>\n",
       "      <th>4335</th>\n",
       "      <td>1461</td>\n",
       "      <td>59487</td>\n",
       "      <td>create_order</td>\n",
       "      <td>2022-09-08 23:29:06.000000</td>\n",
       "      <td>2022-09-08</td>\n",
       "      <td>0</td>\n",
       "    </tr>\n",
       "    <tr>\n",
       "      <th>4336</th>\n",
       "      <td>1376</td>\n",
       "      <td>59533</td>\n",
       "      <td>create_order</td>\n",
       "      <td>2022-09-08 23:41:24.000000</td>\n",
       "      <td>2022-09-08</td>\n",
       "      <td>0</td>\n",
       "    </tr>\n",
       "  </tbody>\n",
       "</table>\n",
       "<p>4337 rows × 6 columns</p>\n",
       "</div>"
      ],
      "text/plain": [
       "      user_id  order_id        action                        time        date  \\\n",
       "0         964      1255  create_order  2022-08-26 00:00:19.000000  2022-08-26   \n",
       "1         965      1256  create_order  2022-08-26 00:02:21.000000  2022-08-26   \n",
       "2         964      1257  create_order  2022-08-26 00:02:27.000000  2022-08-26   \n",
       "3         966      1258  create_order  2022-08-26 00:02:56.000000  2022-08-26   \n",
       "4         967      1259  create_order  2022-08-26 00:03:37.000000  2022-08-26   \n",
       "...       ...       ...           ...                         ...         ...   \n",
       "4332      990     59422  create_order  2022-09-08 23:13:03.000000  2022-09-08   \n",
       "4333     1418     59439  create_order  2022-09-08 23:18:05.000000  2022-09-08   \n",
       "4334     1605     59464  create_order  2022-09-08 23:22:27.000000  2022-09-08   \n",
       "4335     1461     59487  create_order  2022-09-08 23:29:06.000000  2022-09-08   \n",
       "4336     1376     59533  create_order  2022-09-08 23:41:24.000000  2022-09-08   \n",
       "\n",
       "      group  \n",
       "0         0  \n",
       "1         1  \n",
       "2         0  \n",
       "3         0  \n",
       "4         1  \n",
       "...     ...  \n",
       "4332      1  \n",
       "4333      1  \n",
       "4334      0  \n",
       "4335      0  \n",
       "4336      0  \n",
       "\n",
       "[4337 rows x 6 columns]"
      ]
     },
     "execution_count": 71,
     "metadata": {},
     "output_type": "execute_result"
    }
   ],
   "source": [
    "users"
   ]
  },
  {
   "cell_type": "code",
   "execution_count": 72,
   "metadata": {},
   "outputs": [
    {
     "data": {
      "text/plain": [
       "user_id      int64\n",
       "order_id     int64\n",
       "action      object\n",
       "time        object\n",
       "date        object\n",
       "group        int64\n",
       "dtype: object"
      ]
     },
     "execution_count": 72,
     "metadata": {},
     "output_type": "execute_result"
    }
   ],
   "source": [
    "users.dtypes"
   ]
  },
  {
   "cell_type": "code",
   "execution_count": 73,
   "metadata": {},
   "outputs": [],
   "source": [
    "users.time = pd.to_datetime(users.time)\n",
    "users.date = pd.to_datetime(users.date)"
   ]
  },
  {
   "cell_type": "markdown",
   "metadata": {},
   "source": [
    "Orders - подробная информация о составе заказа, тут для каждого заказа есть список id тех продуктов, которые были включены в заказ"
   ]
  },
  {
   "cell_type": "code",
   "execution_count": 74,
   "metadata": {},
   "outputs": [],
   "source": [
    "orders = pd.read_csv('/mnt/HC_Volume_18315164/home-jupyter/jupyter-p-artemov/Statistic/Lesson_10/ab_orders.csv')"
   ]
  },
  {
   "cell_type": "code",
   "execution_count": 75,
   "metadata": {},
   "outputs": [
    {
     "data": {
      "text/html": [
       "<div>\n",
       "<style scoped>\n",
       "    .dataframe tbody tr th:only-of-type {\n",
       "        vertical-align: middle;\n",
       "    }\n",
       "\n",
       "    .dataframe tbody tr th {\n",
       "        vertical-align: top;\n",
       "    }\n",
       "\n",
       "    .dataframe thead th {\n",
       "        text-align: right;\n",
       "    }\n",
       "</style>\n",
       "<table border=\"1\" class=\"dataframe\">\n",
       "  <thead>\n",
       "    <tr style=\"text-align: right;\">\n",
       "      <th></th>\n",
       "      <th>order_id</th>\n",
       "      <th>creation_time</th>\n",
       "      <th>product_ids</th>\n",
       "    </tr>\n",
       "  </thead>\n",
       "  <tbody>\n",
       "    <tr>\n",
       "      <th>0</th>\n",
       "      <td>1255</td>\n",
       "      <td>2022-08-26 00:00:19.000000</td>\n",
       "      <td>{75, 22, 53, 84}</td>\n",
       "    </tr>\n",
       "    <tr>\n",
       "      <th>1</th>\n",
       "      <td>1256</td>\n",
       "      <td>2022-08-26 00:02:21.000000</td>\n",
       "      <td>{56, 76, 39}</td>\n",
       "    </tr>\n",
       "    <tr>\n",
       "      <th>2</th>\n",
       "      <td>1257</td>\n",
       "      <td>2022-08-26 00:02:27.000000</td>\n",
       "      <td>{76, 34, 41, 38}</td>\n",
       "    </tr>\n",
       "    <tr>\n",
       "      <th>3</th>\n",
       "      <td>1258</td>\n",
       "      <td>2022-08-26 00:02:56.000000</td>\n",
       "      <td>{74, 6}</td>\n",
       "    </tr>\n",
       "    <tr>\n",
       "      <th>4</th>\n",
       "      <td>1259</td>\n",
       "      <td>2022-08-26 00:03:37.000000</td>\n",
       "      <td>{20, 45, 67, 26}</td>\n",
       "    </tr>\n",
       "    <tr>\n",
       "      <th>...</th>\n",
       "      <td>...</td>\n",
       "      <td>...</td>\n",
       "      <td>...</td>\n",
       "    </tr>\n",
       "    <tr>\n",
       "      <th>4118</th>\n",
       "      <td>59422</td>\n",
       "      <td>2022-09-08 23:13:03.000000</td>\n",
       "      <td>{84, 8, 24}</td>\n",
       "    </tr>\n",
       "    <tr>\n",
       "      <th>4119</th>\n",
       "      <td>59439</td>\n",
       "      <td>2022-09-08 23:18:05.000000</td>\n",
       "      <td>{9, 25, 75, 30, 6}</td>\n",
       "    </tr>\n",
       "    <tr>\n",
       "      <th>4120</th>\n",
       "      <td>59464</td>\n",
       "      <td>2022-09-08 23:22:27.000000</td>\n",
       "      <td>{60, 41, 46}</td>\n",
       "    </tr>\n",
       "    <tr>\n",
       "      <th>4121</th>\n",
       "      <td>59487</td>\n",
       "      <td>2022-09-08 23:29:06.000000</td>\n",
       "      <td>{9, 62, 77}</td>\n",
       "    </tr>\n",
       "    <tr>\n",
       "      <th>4122</th>\n",
       "      <td>59533</td>\n",
       "      <td>2022-09-08 23:41:24.000000</td>\n",
       "      <td>{17, 85}</td>\n",
       "    </tr>\n",
       "  </tbody>\n",
       "</table>\n",
       "<p>4123 rows × 3 columns</p>\n",
       "</div>"
      ],
      "text/plain": [
       "      order_id               creation_time         product_ids\n",
       "0         1255  2022-08-26 00:00:19.000000    {75, 22, 53, 84}\n",
       "1         1256  2022-08-26 00:02:21.000000        {56, 76, 39}\n",
       "2         1257  2022-08-26 00:02:27.000000    {76, 34, 41, 38}\n",
       "3         1258  2022-08-26 00:02:56.000000             {74, 6}\n",
       "4         1259  2022-08-26 00:03:37.000000    {20, 45, 67, 26}\n",
       "...        ...                         ...                 ...\n",
       "4118     59422  2022-09-08 23:13:03.000000         {84, 8, 24}\n",
       "4119     59439  2022-09-08 23:18:05.000000  {9, 25, 75, 30, 6}\n",
       "4120     59464  2022-09-08 23:22:27.000000        {60, 41, 46}\n",
       "4121     59487  2022-09-08 23:29:06.000000         {9, 62, 77}\n",
       "4122     59533  2022-09-08 23:41:24.000000            {17, 85}\n",
       "\n",
       "[4123 rows x 3 columns]"
      ]
     },
     "execution_count": 75,
     "metadata": {},
     "output_type": "execute_result"
    }
   ],
   "source": [
    "orders"
   ]
  },
  {
   "cell_type": "code",
   "execution_count": 76,
   "metadata": {},
   "outputs": [
    {
     "data": {
      "text/plain": [
       "order_id          int64\n",
       "creation_time    object\n",
       "product_ids      object\n",
       "dtype: object"
      ]
     },
     "execution_count": 76,
     "metadata": {},
     "output_type": "execute_result"
    }
   ],
   "source": [
    "orders.dtypes"
   ]
  },
  {
   "cell_type": "code",
   "execution_count": 77,
   "metadata": {},
   "outputs": [],
   "source": [
    "orders.creation_time = pd.to_datetime(orders.creation_time)"
   ]
  },
  {
   "cell_type": "markdown",
   "metadata": {},
   "source": [
    "Products - таблица с подробной информацией о продуктах, их название и стоимость"
   ]
  },
  {
   "cell_type": "code",
   "execution_count": 78,
   "metadata": {},
   "outputs": [],
   "source": [
    "products = pd.read_csv('/mnt/HC_Volume_18315164/home-jupyter/jupyter-p-artemov/Statistic/Lesson_10/ab_products.csv')"
   ]
  },
  {
   "cell_type": "code",
   "execution_count": 79,
   "metadata": {},
   "outputs": [
    {
     "data": {
      "text/html": [
       "<div>\n",
       "<style scoped>\n",
       "    .dataframe tbody tr th:only-of-type {\n",
       "        vertical-align: middle;\n",
       "    }\n",
       "\n",
       "    .dataframe tbody tr th {\n",
       "        vertical-align: top;\n",
       "    }\n",
       "\n",
       "    .dataframe thead th {\n",
       "        text-align: right;\n",
       "    }\n",
       "</style>\n",
       "<table border=\"1\" class=\"dataframe\">\n",
       "  <thead>\n",
       "    <tr style=\"text-align: right;\">\n",
       "      <th></th>\n",
       "      <th>product_id</th>\n",
       "      <th>name</th>\n",
       "      <th>price</th>\n",
       "    </tr>\n",
       "  </thead>\n",
       "  <tbody>\n",
       "    <tr>\n",
       "      <th>0</th>\n",
       "      <td>1</td>\n",
       "      <td>сахар</td>\n",
       "      <td>150.0</td>\n",
       "    </tr>\n",
       "    <tr>\n",
       "      <th>1</th>\n",
       "      <td>2</td>\n",
       "      <td>чай зеленый в пакетиках</td>\n",
       "      <td>50.0</td>\n",
       "    </tr>\n",
       "    <tr>\n",
       "      <th>2</th>\n",
       "      <td>3</td>\n",
       "      <td>вода негазированная</td>\n",
       "      <td>80.4</td>\n",
       "    </tr>\n",
       "    <tr>\n",
       "      <th>3</th>\n",
       "      <td>4</td>\n",
       "      <td>леденцы</td>\n",
       "      <td>45.5</td>\n",
       "    </tr>\n",
       "    <tr>\n",
       "      <th>4</th>\n",
       "      <td>5</td>\n",
       "      <td>кофе 3 в 1</td>\n",
       "      <td>15.0</td>\n",
       "    </tr>\n",
       "    <tr>\n",
       "      <th>...</th>\n",
       "      <td>...</td>\n",
       "      <td>...</td>\n",
       "      <td>...</td>\n",
       "    </tr>\n",
       "    <tr>\n",
       "      <th>82</th>\n",
       "      <td>83</td>\n",
       "      <td>вафли</td>\n",
       "      <td>55.0</td>\n",
       "    </tr>\n",
       "    <tr>\n",
       "      <th>83</th>\n",
       "      <td>84</td>\n",
       "      <td>мандарины</td>\n",
       "      <td>90.4</td>\n",
       "    </tr>\n",
       "    <tr>\n",
       "      <th>84</th>\n",
       "      <td>85</td>\n",
       "      <td>варенье</td>\n",
       "      <td>200.3</td>\n",
       "    </tr>\n",
       "    <tr>\n",
       "      <th>85</th>\n",
       "      <td>86</td>\n",
       "      <td>кофе холодный</td>\n",
       "      <td>70.3</td>\n",
       "    </tr>\n",
       "    <tr>\n",
       "      <th>86</th>\n",
       "      <td>87</td>\n",
       "      <td>телятина</td>\n",
       "      <td>398.3</td>\n",
       "    </tr>\n",
       "  </tbody>\n",
       "</table>\n",
       "<p>87 rows × 3 columns</p>\n",
       "</div>"
      ],
      "text/plain": [
       "    product_id                     name  price\n",
       "0            1                    сахар  150.0\n",
       "1            2  чай зеленый в пакетиках   50.0\n",
       "2            3      вода негазированная   80.4\n",
       "3            4                  леденцы   45.5\n",
       "4            5               кофе 3 в 1   15.0\n",
       "..         ...                      ...    ...\n",
       "82          83                    вафли   55.0\n",
       "83          84                мандарины   90.4\n",
       "84          85                  варенье  200.3\n",
       "85          86            кофе холодный   70.3\n",
       "86          87                 телятина  398.3\n",
       "\n",
       "[87 rows x 3 columns]"
      ]
     },
     "execution_count": 79,
     "metadata": {},
     "output_type": "execute_result"
    }
   ],
   "source": [
    "products"
   ]
  },
  {
   "cell_type": "code",
   "execution_count": 80,
   "metadata": {},
   "outputs": [
    {
     "data": {
      "text/plain": [
       "product_id      int64\n",
       "name           object\n",
       "price         float64\n",
       "dtype: object"
      ]
     },
     "execution_count": 80,
     "metadata": {},
     "output_type": "execute_result"
    }
   ],
   "source": [
    "products.dtypes"
   ]
  },
  {
   "cell_type": "code",
   "execution_count": null,
   "metadata": {},
   "outputs": [],
   "source": []
  },
  {
   "cell_type": "markdown",
   "metadata": {},
   "source": [
    "Выберем первую метрику - пропорция отмененных заказов"
   ]
  },
  {
   "cell_type": "code",
   "execution_count": 81,
   "metadata": {},
   "outputs": [
    {
     "data": {
      "text/html": [
       "<div>\n",
       "<style scoped>\n",
       "    .dataframe tbody tr th:only-of-type {\n",
       "        vertical-align: middle;\n",
       "    }\n",
       "\n",
       "    .dataframe tbody tr th {\n",
       "        vertical-align: top;\n",
       "    }\n",
       "\n",
       "    .dataframe thead th {\n",
       "        text-align: right;\n",
       "    }\n",
       "</style>\n",
       "<table border=\"1\" class=\"dataframe\">\n",
       "  <thead>\n",
       "    <tr style=\"text-align: right;\">\n",
       "      <th></th>\n",
       "      <th>user_id</th>\n",
       "      <th>order_id</th>\n",
       "      <th>action</th>\n",
       "      <th>time</th>\n",
       "      <th>date</th>\n",
       "      <th>group</th>\n",
       "    </tr>\n",
       "  </thead>\n",
       "  <tbody>\n",
       "    <tr>\n",
       "      <th>0</th>\n",
       "      <td>964</td>\n",
       "      <td>1255</td>\n",
       "      <td>create_order</td>\n",
       "      <td>2022-08-26 00:00:19</td>\n",
       "      <td>2022-08-26</td>\n",
       "      <td>0</td>\n",
       "    </tr>\n",
       "    <tr>\n",
       "      <th>1</th>\n",
       "      <td>965</td>\n",
       "      <td>1256</td>\n",
       "      <td>create_order</td>\n",
       "      <td>2022-08-26 00:02:21</td>\n",
       "      <td>2022-08-26</td>\n",
       "      <td>1</td>\n",
       "    </tr>\n",
       "    <tr>\n",
       "      <th>2</th>\n",
       "      <td>964</td>\n",
       "      <td>1257</td>\n",
       "      <td>create_order</td>\n",
       "      <td>2022-08-26 00:02:27</td>\n",
       "      <td>2022-08-26</td>\n",
       "      <td>0</td>\n",
       "    </tr>\n",
       "    <tr>\n",
       "      <th>3</th>\n",
       "      <td>966</td>\n",
       "      <td>1258</td>\n",
       "      <td>create_order</td>\n",
       "      <td>2022-08-26 00:02:56</td>\n",
       "      <td>2022-08-26</td>\n",
       "      <td>0</td>\n",
       "    </tr>\n",
       "    <tr>\n",
       "      <th>4</th>\n",
       "      <td>967</td>\n",
       "      <td>1259</td>\n",
       "      <td>create_order</td>\n",
       "      <td>2022-08-26 00:03:37</td>\n",
       "      <td>2022-08-26</td>\n",
       "      <td>1</td>\n",
       "    </tr>\n",
       "    <tr>\n",
       "      <th>...</th>\n",
       "      <td>...</td>\n",
       "      <td>...</td>\n",
       "      <td>...</td>\n",
       "      <td>...</td>\n",
       "      <td>...</td>\n",
       "      <td>...</td>\n",
       "    </tr>\n",
       "    <tr>\n",
       "      <th>4332</th>\n",
       "      <td>990</td>\n",
       "      <td>59422</td>\n",
       "      <td>create_order</td>\n",
       "      <td>2022-09-08 23:13:03</td>\n",
       "      <td>2022-09-08</td>\n",
       "      <td>1</td>\n",
       "    </tr>\n",
       "    <tr>\n",
       "      <th>4333</th>\n",
       "      <td>1418</td>\n",
       "      <td>59439</td>\n",
       "      <td>create_order</td>\n",
       "      <td>2022-09-08 23:18:05</td>\n",
       "      <td>2022-09-08</td>\n",
       "      <td>1</td>\n",
       "    </tr>\n",
       "    <tr>\n",
       "      <th>4334</th>\n",
       "      <td>1605</td>\n",
       "      <td>59464</td>\n",
       "      <td>create_order</td>\n",
       "      <td>2022-09-08 23:22:27</td>\n",
       "      <td>2022-09-08</td>\n",
       "      <td>0</td>\n",
       "    </tr>\n",
       "    <tr>\n",
       "      <th>4335</th>\n",
       "      <td>1461</td>\n",
       "      <td>59487</td>\n",
       "      <td>create_order</td>\n",
       "      <td>2022-09-08 23:29:06</td>\n",
       "      <td>2022-09-08</td>\n",
       "      <td>0</td>\n",
       "    </tr>\n",
       "    <tr>\n",
       "      <th>4336</th>\n",
       "      <td>1376</td>\n",
       "      <td>59533</td>\n",
       "      <td>create_order</td>\n",
       "      <td>2022-09-08 23:41:24</td>\n",
       "      <td>2022-09-08</td>\n",
       "      <td>0</td>\n",
       "    </tr>\n",
       "  </tbody>\n",
       "</table>\n",
       "<p>4337 rows × 6 columns</p>\n",
       "</div>"
      ],
      "text/plain": [
       "      user_id  order_id        action                time       date  group\n",
       "0         964      1255  create_order 2022-08-26 00:00:19 2022-08-26      0\n",
       "1         965      1256  create_order 2022-08-26 00:02:21 2022-08-26      1\n",
       "2         964      1257  create_order 2022-08-26 00:02:27 2022-08-26      0\n",
       "3         966      1258  create_order 2022-08-26 00:02:56 2022-08-26      0\n",
       "4         967      1259  create_order 2022-08-26 00:03:37 2022-08-26      1\n",
       "...       ...       ...           ...                 ...        ...    ...\n",
       "4332      990     59422  create_order 2022-09-08 23:13:03 2022-09-08      1\n",
       "4333     1418     59439  create_order 2022-09-08 23:18:05 2022-09-08      1\n",
       "4334     1605     59464  create_order 2022-09-08 23:22:27 2022-09-08      0\n",
       "4335     1461     59487  create_order 2022-09-08 23:29:06 2022-09-08      0\n",
       "4336     1376     59533  create_order 2022-09-08 23:41:24 2022-09-08      0\n",
       "\n",
       "[4337 rows x 6 columns]"
      ]
     },
     "execution_count": 81,
     "metadata": {},
     "output_type": "execute_result"
    }
   ],
   "source": [
    "users"
   ]
  },
  {
   "cell_type": "code",
   "execution_count": 82,
   "metadata": {},
   "outputs": [],
   "source": [
    "df_1 = pd.crosstab(users.group, users.action)"
   ]
  },
  {
   "cell_type": "code",
   "execution_count": 83,
   "metadata": {},
   "outputs": [
    {
     "data": {
      "text/html": [
       "<div>\n",
       "<style scoped>\n",
       "    .dataframe tbody tr th:only-of-type {\n",
       "        vertical-align: middle;\n",
       "    }\n",
       "\n",
       "    .dataframe tbody tr th {\n",
       "        vertical-align: top;\n",
       "    }\n",
       "\n",
       "    .dataframe thead th {\n",
       "        text-align: right;\n",
       "    }\n",
       "</style>\n",
       "<table border=\"1\" class=\"dataframe\">\n",
       "  <thead>\n",
       "    <tr style=\"text-align: right;\">\n",
       "      <th>action</th>\n",
       "      <th>cancel_order</th>\n",
       "      <th>create_order</th>\n",
       "    </tr>\n",
       "    <tr>\n",
       "      <th>group</th>\n",
       "      <th></th>\n",
       "      <th></th>\n",
       "    </tr>\n",
       "  </thead>\n",
       "  <tbody>\n",
       "    <tr>\n",
       "      <th>0</th>\n",
       "      <td>82</td>\n",
       "      <td>1609</td>\n",
       "    </tr>\n",
       "    <tr>\n",
       "      <th>1</th>\n",
       "      <td>132</td>\n",
       "      <td>2514</td>\n",
       "    </tr>\n",
       "  </tbody>\n",
       "</table>\n",
       "</div>"
      ],
      "text/plain": [
       "action  cancel_order  create_order\n",
       "group                             \n",
       "0                 82          1609\n",
       "1                132          2514"
      ]
     },
     "execution_count": 83,
     "metadata": {},
     "output_type": "execute_result"
    }
   ],
   "source": [
    "df_1"
   ]
  },
  {
   "cell_type": "markdown",
   "metadata": {},
   "source": [
    "Сформулируем H0 : взаимосвязи между количеством заказов и группой отсутствует\n",
    "Так как p_value > 0.05 - мы не можем отклонить H0."
   ]
  },
  {
   "cell_type": "code",
   "execution_count": 84,
   "metadata": {},
   "outputs": [
    {
     "data": {
      "text/plain": [
       "(0.018211165651942023,\n",
       " 0.8926523935841298,\n",
       " 1,\n",
       " array([[  83.43878257, 1607.56121743],\n",
       "        [ 130.56121743, 2515.43878257]]))"
      ]
     },
     "execution_count": 84,
     "metadata": {},
     "output_type": "execute_result"
    }
   ],
   "source": [
    "scipy.stats.chi2_contingency(df_1)"
   ]
  },
  {
   "cell_type": "markdown",
   "metadata": {},
   "source": [
    "Посмотрим метрику - количество созданных заказов.\n",
    "Для этого посчитаем ожидаемое количество заказов для обеих групп, если бы они были одинаковыми"
   ]
  },
  {
   "cell_type": "code",
   "execution_count": 85,
   "metadata": {},
   "outputs": [],
   "source": [
    "df_1[\"wait\"] = df_1.create_order.sum()/2"
   ]
  },
  {
   "cell_type": "code",
   "execution_count": 86,
   "metadata": {},
   "outputs": [
    {
     "data": {
      "text/html": [
       "<div>\n",
       "<style scoped>\n",
       "    .dataframe tbody tr th:only-of-type {\n",
       "        vertical-align: middle;\n",
       "    }\n",
       "\n",
       "    .dataframe tbody tr th {\n",
       "        vertical-align: top;\n",
       "    }\n",
       "\n",
       "    .dataframe thead th {\n",
       "        text-align: right;\n",
       "    }\n",
       "</style>\n",
       "<table border=\"1\" class=\"dataframe\">\n",
       "  <thead>\n",
       "    <tr style=\"text-align: right;\">\n",
       "      <th>action</th>\n",
       "      <th>cancel_order</th>\n",
       "      <th>create_order</th>\n",
       "      <th>wait</th>\n",
       "    </tr>\n",
       "    <tr>\n",
       "      <th>group</th>\n",
       "      <th></th>\n",
       "      <th></th>\n",
       "      <th></th>\n",
       "    </tr>\n",
       "  </thead>\n",
       "  <tbody>\n",
       "    <tr>\n",
       "      <th>0</th>\n",
       "      <td>82</td>\n",
       "      <td>1609</td>\n",
       "      <td>2061.5</td>\n",
       "    </tr>\n",
       "    <tr>\n",
       "      <th>1</th>\n",
       "      <td>132</td>\n",
       "      <td>2514</td>\n",
       "      <td>2061.5</td>\n",
       "    </tr>\n",
       "  </tbody>\n",
       "</table>\n",
       "</div>"
      ],
      "text/plain": [
       "action  cancel_order  create_order    wait\n",
       "group                                     \n",
       "0                 82          1609  2061.5\n",
       "1                132          2514  2061.5"
      ]
     },
     "execution_count": 86,
     "metadata": {},
     "output_type": "execute_result"
    }
   ],
   "source": [
    "df_1"
   ]
  },
  {
   "cell_type": "markdown",
   "metadata": {},
   "source": [
    "Сформулируем Н0: Количество заказов в тестовой группе не отличается от ожидаемого\n",
    "Применим Хи-квадрат для одной случайной величины. \n",
    "Как результат - получим p-value < 0.05, ,следовательно можем отклонить Н0 и утверждать, что в группе 1 количество заказов стат. значимо увеличилось по сравнению с группой 0"
   ]
  },
  {
   "cell_type": "code",
   "execution_count": 87,
   "metadata": {},
   "outputs": [
    {
     "data": {
      "text/plain": [
       "Power_divergenceResult(statistic=208.7032367035465, pvalue=2.6350379816572005e-47)"
      ]
     },
     "execution_count": 87,
     "metadata": {},
     "output_type": "execute_result"
    }
   ],
   "source": [
    "scipy.stats.chisquare(df_1.wait, f_exp = df_1.create_order)"
   ]
  },
  {
   "cell_type": "markdown",
   "metadata": {},
   "source": [
    "Из вышеуказанного можем сделать вывод, что количество заказов в 1-ой группе стат.значимо больше количетсва заказов в 0-ой группе. При этом соотношение отмененные/созданные заказы не увеличилось. \n",
    "Следовательно "
   ]
  },
  {
   "cell_type": "code",
   "execution_count": null,
   "metadata": {},
   "outputs": [],
   "source": []
  },
  {
   "cell_type": "markdown",
   "metadata": {},
   "source": [
    "Возьмем за следующую метрику сумму вырученную с обеих групп"
   ]
  },
  {
   "cell_type": "code",
   "execution_count": 88,
   "metadata": {},
   "outputs": [],
   "source": [
    "orders['products'] = orders.product_ids.apply(lambda x: x[1:-1].split(', '))"
   ]
  },
  {
   "cell_type": "code",
   "execution_count": 89,
   "metadata": {},
   "outputs": [
    {
     "data": {
      "text/html": [
       "<div>\n",
       "<style scoped>\n",
       "    .dataframe tbody tr th:only-of-type {\n",
       "        vertical-align: middle;\n",
       "    }\n",
       "\n",
       "    .dataframe tbody tr th {\n",
       "        vertical-align: top;\n",
       "    }\n",
       "\n",
       "    .dataframe thead th {\n",
       "        text-align: right;\n",
       "    }\n",
       "</style>\n",
       "<table border=\"1\" class=\"dataframe\">\n",
       "  <thead>\n",
       "    <tr style=\"text-align: right;\">\n",
       "      <th></th>\n",
       "      <th>order_id</th>\n",
       "      <th>creation_time</th>\n",
       "      <th>product_ids</th>\n",
       "      <th>products</th>\n",
       "    </tr>\n",
       "  </thead>\n",
       "  <tbody>\n",
       "    <tr>\n",
       "      <th>0</th>\n",
       "      <td>1255</td>\n",
       "      <td>2022-08-26 00:00:19</td>\n",
       "      <td>{75, 22, 53, 84}</td>\n",
       "      <td>[75, 22, 53, 84]</td>\n",
       "    </tr>\n",
       "    <tr>\n",
       "      <th>1</th>\n",
       "      <td>1256</td>\n",
       "      <td>2022-08-26 00:02:21</td>\n",
       "      <td>{56, 76, 39}</td>\n",
       "      <td>[56, 76, 39]</td>\n",
       "    </tr>\n",
       "    <tr>\n",
       "      <th>2</th>\n",
       "      <td>1257</td>\n",
       "      <td>2022-08-26 00:02:27</td>\n",
       "      <td>{76, 34, 41, 38}</td>\n",
       "      <td>[76, 34, 41, 38]</td>\n",
       "    </tr>\n",
       "    <tr>\n",
       "      <th>3</th>\n",
       "      <td>1258</td>\n",
       "      <td>2022-08-26 00:02:56</td>\n",
       "      <td>{74, 6}</td>\n",
       "      <td>[74, 6]</td>\n",
       "    </tr>\n",
       "    <tr>\n",
       "      <th>4</th>\n",
       "      <td>1259</td>\n",
       "      <td>2022-08-26 00:03:37</td>\n",
       "      <td>{20, 45, 67, 26}</td>\n",
       "      <td>[20, 45, 67, 26]</td>\n",
       "    </tr>\n",
       "    <tr>\n",
       "      <th>...</th>\n",
       "      <td>...</td>\n",
       "      <td>...</td>\n",
       "      <td>...</td>\n",
       "      <td>...</td>\n",
       "    </tr>\n",
       "    <tr>\n",
       "      <th>4118</th>\n",
       "      <td>59422</td>\n",
       "      <td>2022-09-08 23:13:03</td>\n",
       "      <td>{84, 8, 24}</td>\n",
       "      <td>[84, 8, 24]</td>\n",
       "    </tr>\n",
       "    <tr>\n",
       "      <th>4119</th>\n",
       "      <td>59439</td>\n",
       "      <td>2022-09-08 23:18:05</td>\n",
       "      <td>{9, 25, 75, 30, 6}</td>\n",
       "      <td>[9, 25, 75, 30, 6]</td>\n",
       "    </tr>\n",
       "    <tr>\n",
       "      <th>4120</th>\n",
       "      <td>59464</td>\n",
       "      <td>2022-09-08 23:22:27</td>\n",
       "      <td>{60, 41, 46}</td>\n",
       "      <td>[60, 41, 46]</td>\n",
       "    </tr>\n",
       "    <tr>\n",
       "      <th>4121</th>\n",
       "      <td>59487</td>\n",
       "      <td>2022-09-08 23:29:06</td>\n",
       "      <td>{9, 62, 77}</td>\n",
       "      <td>[9, 62, 77]</td>\n",
       "    </tr>\n",
       "    <tr>\n",
       "      <th>4122</th>\n",
       "      <td>59533</td>\n",
       "      <td>2022-09-08 23:41:24</td>\n",
       "      <td>{17, 85}</td>\n",
       "      <td>[17, 85]</td>\n",
       "    </tr>\n",
       "  </tbody>\n",
       "</table>\n",
       "<p>4123 rows × 4 columns</p>\n",
       "</div>"
      ],
      "text/plain": [
       "      order_id       creation_time         product_ids            products\n",
       "0         1255 2022-08-26 00:00:19    {75, 22, 53, 84}    [75, 22, 53, 84]\n",
       "1         1256 2022-08-26 00:02:21        {56, 76, 39}        [56, 76, 39]\n",
       "2         1257 2022-08-26 00:02:27    {76, 34, 41, 38}    [76, 34, 41, 38]\n",
       "3         1258 2022-08-26 00:02:56             {74, 6}             [74, 6]\n",
       "4         1259 2022-08-26 00:03:37    {20, 45, 67, 26}    [20, 45, 67, 26]\n",
       "...        ...                 ...                 ...                 ...\n",
       "4118     59422 2022-09-08 23:13:03         {84, 8, 24}         [84, 8, 24]\n",
       "4119     59439 2022-09-08 23:18:05  {9, 25, 75, 30, 6}  [9, 25, 75, 30, 6]\n",
       "4120     59464 2022-09-08 23:22:27        {60, 41, 46}        [60, 41, 46]\n",
       "4121     59487 2022-09-08 23:29:06         {9, 62, 77}         [9, 62, 77]\n",
       "4122     59533 2022-09-08 23:41:24            {17, 85}            [17, 85]\n",
       "\n",
       "[4123 rows x 4 columns]"
      ]
     },
     "execution_count": 89,
     "metadata": {},
     "output_type": "execute_result"
    }
   ],
   "source": [
    "orders"
   ]
  },
  {
   "cell_type": "code",
   "execution_count": 90,
   "metadata": {},
   "outputs": [],
   "source": [
    "orders.products = orders.products.apply(lambda x:[int(item) for item in x])"
   ]
  },
  {
   "cell_type": "code",
   "execution_count": 91,
   "metadata": {},
   "outputs": [
    {
     "data": {
      "text/html": [
       "<div>\n",
       "<style scoped>\n",
       "    .dataframe tbody tr th:only-of-type {\n",
       "        vertical-align: middle;\n",
       "    }\n",
       "\n",
       "    .dataframe tbody tr th {\n",
       "        vertical-align: top;\n",
       "    }\n",
       "\n",
       "    .dataframe thead th {\n",
       "        text-align: right;\n",
       "    }\n",
       "</style>\n",
       "<table border=\"1\" class=\"dataframe\">\n",
       "  <thead>\n",
       "    <tr style=\"text-align: right;\">\n",
       "      <th></th>\n",
       "      <th>order_id</th>\n",
       "      <th>creation_time</th>\n",
       "      <th>product_ids</th>\n",
       "      <th>products</th>\n",
       "    </tr>\n",
       "  </thead>\n",
       "  <tbody>\n",
       "    <tr>\n",
       "      <th>0</th>\n",
       "      <td>1255</td>\n",
       "      <td>2022-08-26 00:00:19</td>\n",
       "      <td>{75, 22, 53, 84}</td>\n",
       "      <td>[75, 22, 53, 84]</td>\n",
       "    </tr>\n",
       "    <tr>\n",
       "      <th>1</th>\n",
       "      <td>1256</td>\n",
       "      <td>2022-08-26 00:02:21</td>\n",
       "      <td>{56, 76, 39}</td>\n",
       "      <td>[56, 76, 39]</td>\n",
       "    </tr>\n",
       "    <tr>\n",
       "      <th>2</th>\n",
       "      <td>1257</td>\n",
       "      <td>2022-08-26 00:02:27</td>\n",
       "      <td>{76, 34, 41, 38}</td>\n",
       "      <td>[76, 34, 41, 38]</td>\n",
       "    </tr>\n",
       "    <tr>\n",
       "      <th>3</th>\n",
       "      <td>1258</td>\n",
       "      <td>2022-08-26 00:02:56</td>\n",
       "      <td>{74, 6}</td>\n",
       "      <td>[74, 6]</td>\n",
       "    </tr>\n",
       "    <tr>\n",
       "      <th>4</th>\n",
       "      <td>1259</td>\n",
       "      <td>2022-08-26 00:03:37</td>\n",
       "      <td>{20, 45, 67, 26}</td>\n",
       "      <td>[20, 45, 67, 26]</td>\n",
       "    </tr>\n",
       "    <tr>\n",
       "      <th>...</th>\n",
       "      <td>...</td>\n",
       "      <td>...</td>\n",
       "      <td>...</td>\n",
       "      <td>...</td>\n",
       "    </tr>\n",
       "    <tr>\n",
       "      <th>4118</th>\n",
       "      <td>59422</td>\n",
       "      <td>2022-09-08 23:13:03</td>\n",
       "      <td>{84, 8, 24}</td>\n",
       "      <td>[84, 8, 24]</td>\n",
       "    </tr>\n",
       "    <tr>\n",
       "      <th>4119</th>\n",
       "      <td>59439</td>\n",
       "      <td>2022-09-08 23:18:05</td>\n",
       "      <td>{9, 25, 75, 30, 6}</td>\n",
       "      <td>[9, 25, 75, 30, 6]</td>\n",
       "    </tr>\n",
       "    <tr>\n",
       "      <th>4120</th>\n",
       "      <td>59464</td>\n",
       "      <td>2022-09-08 23:22:27</td>\n",
       "      <td>{60, 41, 46}</td>\n",
       "      <td>[60, 41, 46]</td>\n",
       "    </tr>\n",
       "    <tr>\n",
       "      <th>4121</th>\n",
       "      <td>59487</td>\n",
       "      <td>2022-09-08 23:29:06</td>\n",
       "      <td>{9, 62, 77}</td>\n",
       "      <td>[9, 62, 77]</td>\n",
       "    </tr>\n",
       "    <tr>\n",
       "      <th>4122</th>\n",
       "      <td>59533</td>\n",
       "      <td>2022-09-08 23:41:24</td>\n",
       "      <td>{17, 85}</td>\n",
       "      <td>[17, 85]</td>\n",
       "    </tr>\n",
       "  </tbody>\n",
       "</table>\n",
       "<p>4123 rows × 4 columns</p>\n",
       "</div>"
      ],
      "text/plain": [
       "      order_id       creation_time         product_ids            products\n",
       "0         1255 2022-08-26 00:00:19    {75, 22, 53, 84}    [75, 22, 53, 84]\n",
       "1         1256 2022-08-26 00:02:21        {56, 76, 39}        [56, 76, 39]\n",
       "2         1257 2022-08-26 00:02:27    {76, 34, 41, 38}    [76, 34, 41, 38]\n",
       "3         1258 2022-08-26 00:02:56             {74, 6}             [74, 6]\n",
       "4         1259 2022-08-26 00:03:37    {20, 45, 67, 26}    [20, 45, 67, 26]\n",
       "...        ...                 ...                 ...                 ...\n",
       "4118     59422 2022-09-08 23:13:03         {84, 8, 24}         [84, 8, 24]\n",
       "4119     59439 2022-09-08 23:18:05  {9, 25, 75, 30, 6}  [9, 25, 75, 30, 6]\n",
       "4120     59464 2022-09-08 23:22:27        {60, 41, 46}        [60, 41, 46]\n",
       "4121     59487 2022-09-08 23:29:06         {9, 62, 77}         [9, 62, 77]\n",
       "4122     59533 2022-09-08 23:41:24            {17, 85}            [17, 85]\n",
       "\n",
       "[4123 rows x 4 columns]"
      ]
     },
     "execution_count": 91,
     "metadata": {},
     "output_type": "execute_result"
    }
   ],
   "source": [
    "orders"
   ]
  },
  {
   "cell_type": "code",
   "execution_count": 92,
   "metadata": {},
   "outputs": [],
   "source": [
    "orders['price'] = 0"
   ]
  },
  {
   "cell_type": "code",
   "execution_count": 93,
   "metadata": {},
   "outputs": [
    {
     "name": "stderr",
     "output_type": "stream",
     "text": [
      "/opt/tljh/user/lib/python3.7/site-packages/ipykernel_launcher.py:4: SettingWithCopyWarning: \n",
      "A value is trying to be set on a copy of a slice from a DataFrame\n",
      "\n",
      "See the caveats in the documentation: https://pandas.pydata.org/pandas-docs/stable/user_guide/indexing.html#returning-a-view-versus-a-copy\n",
      "  after removing the cwd from sys.path.\n"
     ]
    }
   ],
   "source": [
    "for i in range(len(orders)):\n",
    "    for j in range(len(products)):\n",
    "        if products.product_id[j] in orders.products[i]:\n",
    "            orders.price[i] += products.price[j]\n",
    "        else:\n",
    "            continue"
   ]
  },
  {
   "cell_type": "code",
   "execution_count": 94,
   "metadata": {},
   "outputs": [],
   "source": [
    "orders_price = orders[['order_id', 'price']]"
   ]
  },
  {
   "cell_type": "code",
   "execution_count": 95,
   "metadata": {},
   "outputs": [
    {
     "data": {
      "text/html": [
       "<div>\n",
       "<style scoped>\n",
       "    .dataframe tbody tr th:only-of-type {\n",
       "        vertical-align: middle;\n",
       "    }\n",
       "\n",
       "    .dataframe tbody tr th {\n",
       "        vertical-align: top;\n",
       "    }\n",
       "\n",
       "    .dataframe thead th {\n",
       "        text-align: right;\n",
       "    }\n",
       "</style>\n",
       "<table border=\"1\" class=\"dataframe\">\n",
       "  <thead>\n",
       "    <tr style=\"text-align: right;\">\n",
       "      <th></th>\n",
       "      <th>order_id</th>\n",
       "      <th>price</th>\n",
       "    </tr>\n",
       "  </thead>\n",
       "  <tbody>\n",
       "    <tr>\n",
       "      <th>0</th>\n",
       "      <td>1255</td>\n",
       "      <td>408</td>\n",
       "    </tr>\n",
       "    <tr>\n",
       "      <th>1</th>\n",
       "      <td>1256</td>\n",
       "      <td>250</td>\n",
       "    </tr>\n",
       "    <tr>\n",
       "      <th>2</th>\n",
       "      <td>1257</td>\n",
       "      <td>309</td>\n",
       "    </tr>\n",
       "    <tr>\n",
       "      <th>3</th>\n",
       "      <td>1258</td>\n",
       "      <td>85</td>\n",
       "    </tr>\n",
       "    <tr>\n",
       "      <th>4</th>\n",
       "      <td>1259</td>\n",
       "      <td>228</td>\n",
       "    </tr>\n",
       "    <tr>\n",
       "      <th>...</th>\n",
       "      <td>...</td>\n",
       "      <td>...</td>\n",
       "    </tr>\n",
       "    <tr>\n",
       "      <th>4118</th>\n",
       "      <td>59422</td>\n",
       "      <td>240</td>\n",
       "    </tr>\n",
       "    <tr>\n",
       "      <th>4119</th>\n",
       "      <td>59439</td>\n",
       "      <td>518</td>\n",
       "    </tr>\n",
       "    <tr>\n",
       "      <th>4120</th>\n",
       "      <td>59464</td>\n",
       "      <td>185</td>\n",
       "    </tr>\n",
       "    <tr>\n",
       "      <th>4121</th>\n",
       "      <td>59487</td>\n",
       "      <td>501</td>\n",
       "    </tr>\n",
       "    <tr>\n",
       "      <th>4122</th>\n",
       "      <td>59533</td>\n",
       "      <td>390</td>\n",
       "    </tr>\n",
       "  </tbody>\n",
       "</table>\n",
       "<p>4123 rows × 2 columns</p>\n",
       "</div>"
      ],
      "text/plain": [
       "      order_id  price\n",
       "0         1255    408\n",
       "1         1256    250\n",
       "2         1257    309\n",
       "3         1258     85\n",
       "4         1259    228\n",
       "...        ...    ...\n",
       "4118     59422    240\n",
       "4119     59439    518\n",
       "4120     59464    185\n",
       "4121     59487    501\n",
       "4122     59533    390\n",
       "\n",
       "[4123 rows x 2 columns]"
      ]
     },
     "execution_count": 95,
     "metadata": {},
     "output_type": "execute_result"
    }
   ],
   "source": [
    "orders_price"
   ]
  },
  {
   "cell_type": "code",
   "execution_count": 96,
   "metadata": {},
   "outputs": [],
   "source": [
    "users_price = users.merge(orders_price, on = 'order_id', how = 'left')"
   ]
  },
  {
   "cell_type": "markdown",
   "metadata": {},
   "source": [
    "Не будем учитывать заказы, которые по итогу были отменены, так как по ним мы не получим прибыль "
   ]
  },
  {
   "cell_type": "code",
   "execution_count": 97,
   "metadata": {
    "scrolled": true
   },
   "outputs": [],
   "source": [
    "users_price = users_price.drop_duplicates(subset = \"order_id\", keep=False)"
   ]
  },
  {
   "cell_type": "code",
   "execution_count": 98,
   "metadata": {},
   "outputs": [
    {
     "data": {
      "text/html": [
       "<div>\n",
       "<style scoped>\n",
       "    .dataframe tbody tr th:only-of-type {\n",
       "        vertical-align: middle;\n",
       "    }\n",
       "\n",
       "    .dataframe tbody tr th {\n",
       "        vertical-align: top;\n",
       "    }\n",
       "\n",
       "    .dataframe thead th {\n",
       "        text-align: right;\n",
       "    }\n",
       "</style>\n",
       "<table border=\"1\" class=\"dataframe\">\n",
       "  <thead>\n",
       "    <tr style=\"text-align: right;\">\n",
       "      <th></th>\n",
       "      <th>user_id</th>\n",
       "      <th>order_id</th>\n",
       "      <th>action</th>\n",
       "      <th>time</th>\n",
       "      <th>date</th>\n",
       "      <th>group</th>\n",
       "      <th>price</th>\n",
       "    </tr>\n",
       "  </thead>\n",
       "  <tbody>\n",
       "    <tr>\n",
       "      <th>0</th>\n",
       "      <td>964</td>\n",
       "      <td>1255</td>\n",
       "      <td>create_order</td>\n",
       "      <td>2022-08-26 00:00:19</td>\n",
       "      <td>2022-08-26</td>\n",
       "      <td>0</td>\n",
       "      <td>408</td>\n",
       "    </tr>\n",
       "    <tr>\n",
       "      <th>1</th>\n",
       "      <td>965</td>\n",
       "      <td>1256</td>\n",
       "      <td>create_order</td>\n",
       "      <td>2022-08-26 00:02:21</td>\n",
       "      <td>2022-08-26</td>\n",
       "      <td>1</td>\n",
       "      <td>250</td>\n",
       "    </tr>\n",
       "    <tr>\n",
       "      <th>2</th>\n",
       "      <td>964</td>\n",
       "      <td>1257</td>\n",
       "      <td>create_order</td>\n",
       "      <td>2022-08-26 00:02:27</td>\n",
       "      <td>2022-08-26</td>\n",
       "      <td>0</td>\n",
       "      <td>309</td>\n",
       "    </tr>\n",
       "    <tr>\n",
       "      <th>4</th>\n",
       "      <td>967</td>\n",
       "      <td>1259</td>\n",
       "      <td>create_order</td>\n",
       "      <td>2022-08-26 00:03:37</td>\n",
       "      <td>2022-08-26</td>\n",
       "      <td>1</td>\n",
       "      <td>228</td>\n",
       "    </tr>\n",
       "    <tr>\n",
       "      <th>5</th>\n",
       "      <td>968</td>\n",
       "      <td>1261</td>\n",
       "      <td>create_order</td>\n",
       "      <td>2022-08-26 00:05:35</td>\n",
       "      <td>2022-08-26</td>\n",
       "      <td>0</td>\n",
       "      <td>430</td>\n",
       "    </tr>\n",
       "    <tr>\n",
       "      <th>...</th>\n",
       "      <td>...</td>\n",
       "      <td>...</td>\n",
       "      <td>...</td>\n",
       "      <td>...</td>\n",
       "      <td>...</td>\n",
       "      <td>...</td>\n",
       "      <td>...</td>\n",
       "    </tr>\n",
       "    <tr>\n",
       "      <th>4332</th>\n",
       "      <td>990</td>\n",
       "      <td>59422</td>\n",
       "      <td>create_order</td>\n",
       "      <td>2022-09-08 23:13:03</td>\n",
       "      <td>2022-09-08</td>\n",
       "      <td>1</td>\n",
       "      <td>240</td>\n",
       "    </tr>\n",
       "    <tr>\n",
       "      <th>4333</th>\n",
       "      <td>1418</td>\n",
       "      <td>59439</td>\n",
       "      <td>create_order</td>\n",
       "      <td>2022-09-08 23:18:05</td>\n",
       "      <td>2022-09-08</td>\n",
       "      <td>1</td>\n",
       "      <td>518</td>\n",
       "    </tr>\n",
       "    <tr>\n",
       "      <th>4334</th>\n",
       "      <td>1605</td>\n",
       "      <td>59464</td>\n",
       "      <td>create_order</td>\n",
       "      <td>2022-09-08 23:22:27</td>\n",
       "      <td>2022-09-08</td>\n",
       "      <td>0</td>\n",
       "      <td>185</td>\n",
       "    </tr>\n",
       "    <tr>\n",
       "      <th>4335</th>\n",
       "      <td>1461</td>\n",
       "      <td>59487</td>\n",
       "      <td>create_order</td>\n",
       "      <td>2022-09-08 23:29:06</td>\n",
       "      <td>2022-09-08</td>\n",
       "      <td>0</td>\n",
       "      <td>501</td>\n",
       "    </tr>\n",
       "    <tr>\n",
       "      <th>4336</th>\n",
       "      <td>1376</td>\n",
       "      <td>59533</td>\n",
       "      <td>create_order</td>\n",
       "      <td>2022-09-08 23:41:24</td>\n",
       "      <td>2022-09-08</td>\n",
       "      <td>0</td>\n",
       "      <td>390</td>\n",
       "    </tr>\n",
       "  </tbody>\n",
       "</table>\n",
       "<p>3909 rows × 7 columns</p>\n",
       "</div>"
      ],
      "text/plain": [
       "      user_id  order_id        action                time       date  group  \\\n",
       "0         964      1255  create_order 2022-08-26 00:00:19 2022-08-26      0   \n",
       "1         965      1256  create_order 2022-08-26 00:02:21 2022-08-26      1   \n",
       "2         964      1257  create_order 2022-08-26 00:02:27 2022-08-26      0   \n",
       "4         967      1259  create_order 2022-08-26 00:03:37 2022-08-26      1   \n",
       "5         968      1261  create_order 2022-08-26 00:05:35 2022-08-26      0   \n",
       "...       ...       ...           ...                 ...        ...    ...   \n",
       "4332      990     59422  create_order 2022-09-08 23:13:03 2022-09-08      1   \n",
       "4333     1418     59439  create_order 2022-09-08 23:18:05 2022-09-08      1   \n",
       "4334     1605     59464  create_order 2022-09-08 23:22:27 2022-09-08      0   \n",
       "4335     1461     59487  create_order 2022-09-08 23:29:06 2022-09-08      0   \n",
       "4336     1376     59533  create_order 2022-09-08 23:41:24 2022-09-08      0   \n",
       "\n",
       "      price  \n",
       "0       408  \n",
       "1       250  \n",
       "2       309  \n",
       "4       228  \n",
       "5       430  \n",
       "...     ...  \n",
       "4332    240  \n",
       "4333    518  \n",
       "4334    185  \n",
       "4335    501  \n",
       "4336    390  \n",
       "\n",
       "[3909 rows x 7 columns]"
      ]
     },
     "execution_count": 98,
     "metadata": {},
     "output_type": "execute_result"
    }
   ],
   "source": [
    "users_price"
   ]
  },
  {
   "cell_type": "code",
   "execution_count": 99,
   "metadata": {},
   "outputs": [],
   "source": [
    "users_price_sum = users_price.groupby(\"group\").agg({\"price\":\"sum\"})"
   ]
  },
  {
   "cell_type": "markdown",
   "metadata": {},
   "source": [
    "Построим распределение цен заказов в первой группе"
   ]
  },
  {
   "cell_type": "code",
   "execution_count": 100,
   "metadata": {},
   "outputs": [
    {
     "name": "stderr",
     "output_type": "stream",
     "text": [
      "/opt/tljh/user/lib/python3.7/site-packages/seaborn/distributions.py:2557: FutureWarning: `distplot` is a deprecated function and will be removed in a future version. Please adapt your code to use either `displot` (a figure-level function with similar flexibility) or `histplot` (an axes-level function for histograms).\n",
      "  warnings.warn(msg, FutureWarning)\n"
     ]
    },
    {
     "data": {
      "text/plain": [
       "<matplotlib.axes._subplots.AxesSubplot at 0x7fa4dbcf47b8>"
      ]
     },
     "execution_count": 100,
     "metadata": {},
     "output_type": "execute_result"
    },
    {
     "data": {
      "image/png": "[encoded data removed]",
      "text/plain": [
       "<Figure size 432x288 with 1 Axes>"
      ]
     },
     "metadata": {
      "needs_background": "light"
     },
     "output_type": "display_data"
    }
   ],
   "source": [
    "sns.distplot(users_price.query(\"group == 0\").price)"
   ]
  },
  {
   "cell_type": "markdown",
   "metadata": {},
   "source": [
    "Проверим распределение на нормальность тестом Шапиро-Уилка\n",
    "Получили p_value<0.05, что дает нам возможность отклонить нулевую гипотезу о нормальности распределения"
   ]
  },
  {
   "cell_type": "code",
   "execution_count": 101,
   "metadata": {},
   "outputs": [
    {
     "data": {
      "text/plain": [
       "ShapiroResult(statistic=0.9196389317512512, pvalue=9.236931421046234e-28)"
      ]
     },
     "execution_count": 101,
     "metadata": {},
     "output_type": "execute_result"
    }
   ],
   "source": [
    "from scipy import stats\n",
    "stats.shapiro(users_price.query(\"group == 0\").price)"
   ]
  },
  {
   "cell_type": "markdown",
   "metadata": {},
   "source": [
    "Построим распределение цен заказов в первой группе "
   ]
  },
  {
   "cell_type": "code",
   "execution_count": 102,
   "metadata": {},
   "outputs": [
    {
     "name": "stderr",
     "output_type": "stream",
     "text": [
      "/opt/tljh/user/lib/python3.7/site-packages/seaborn/distributions.py:2557: FutureWarning: `distplot` is a deprecated function and will be removed in a future version. Please adapt your code to use either `displot` (a figure-level function with similar flexibility) or `histplot` (an axes-level function for histograms).\n",
      "  warnings.warn(msg, FutureWarning)\n"
     ]
    },
    {
     "data": {
      "text/plain": [
       "<matplotlib.axes._subplots.AxesSubplot at 0x7fa4fd305fd0>"
      ]
     },
     "execution_count": 102,
     "metadata": {},
     "output_type": "execute_result"
    },
    {
     "data": {
      "image/png": "[encoded data removed]",
      "text/plain": [
       "<Figure size 432x288 with 1 Axes>"
      ]
     },
     "metadata": {
      "needs_background": "light"
     },
     "output_type": "display_data"
    }
   ],
   "source": [
    "sns.distplot(users_price.query(\"group == 1\").price)"
   ]
  },
  {
   "cell_type": "markdown",
   "metadata": {},
   "source": [
    "Как и для количества заказов посмотрим как распределялась бы сумма полученная от группа ожидаемо "
   ]
  },
  {
   "cell_type": "code",
   "execution_count": 103,
   "metadata": {},
   "outputs": [],
   "source": [
    "users_price_sum[\"wait_price\"] = users_price_sum.price.sum()/2"
   ]
  },
  {
   "cell_type": "code",
   "execution_count": 104,
   "metadata": {},
   "outputs": [
    {
     "data": {
      "text/html": [
       "<div>\n",
       "<style scoped>\n",
       "    .dataframe tbody tr th:only-of-type {\n",
       "        vertical-align: middle;\n",
       "    }\n",
       "\n",
       "    .dataframe tbody tr th {\n",
       "        vertical-align: top;\n",
       "    }\n",
       "\n",
       "    .dataframe thead th {\n",
       "        text-align: right;\n",
       "    }\n",
       "</style>\n",
       "<table border=\"1\" class=\"dataframe\">\n",
       "  <thead>\n",
       "    <tr style=\"text-align: right;\">\n",
       "      <th></th>\n",
       "      <th>price</th>\n",
       "      <th>wait_price</th>\n",
       "    </tr>\n",
       "    <tr>\n",
       "      <th>group</th>\n",
       "      <th></th>\n",
       "      <th></th>\n",
       "    </tr>\n",
       "  </thead>\n",
       "  <tbody>\n",
       "    <tr>\n",
       "      <th>0</th>\n",
       "      <td>571851</td>\n",
       "      <td>715771.5</td>\n",
       "    </tr>\n",
       "    <tr>\n",
       "      <th>1</th>\n",
       "      <td>859692</td>\n",
       "      <td>715771.5</td>\n",
       "    </tr>\n",
       "  </tbody>\n",
       "</table>\n",
       "</div>"
      ],
      "text/plain": [
       "        price  wait_price\n",
       "group                    \n",
       "0      571851    715771.5\n",
       "1      859692    715771.5"
      ]
     },
     "execution_count": 104,
     "metadata": {},
     "output_type": "execute_result"
    }
   ],
   "source": [
    "users_price_sum"
   ]
  },
  {
   "cell_type": "markdown",
   "metadata": {},
   "source": [
    "Сформулируем следующую Н0: Сумма выручки в группе 1 не отличается от ожидаемой \n",
    "Проведя исследование методом Хи-квадрат получим p-value < 0.05 , следовательно сумма выручки в 1 группе стат.значимо отличается от выручки в группе 0 "
   ]
  },
  {
   "cell_type": "code",
   "execution_count": 105,
   "metadata": {},
   "outputs": [
    {
     "data": {
      "text/plain": [
       "Power_divergenceResult(statistic=60314.80744868689, pvalue=0.0)"
      ]
     },
     "execution_count": 105,
     "metadata": {},
     "output_type": "execute_result"
    }
   ],
   "source": [
    "scipy.stats.chisquare(users_price_sum.wait_price, f_exp = users_price_sum.price)"
   ]
  },
  {
   "cell_type": "code",
   "execution_count": null,
   "metadata": {},
   "outputs": [],
   "source": []
  },
  {
   "cell_type": "markdown",
   "metadata": {},
   "source": [
    "Проверим метрику - количество продуктов в заказе "
   ]
  },
  {
   "cell_type": "code",
   "execution_count": 106,
   "metadata": {},
   "outputs": [
    {
     "data": {
      "text/html": [
       "<div>\n",
       "<style scoped>\n",
       "    .dataframe tbody tr th:only-of-type {\n",
       "        vertical-align: middle;\n",
       "    }\n",
       "\n",
       "    .dataframe tbody tr th {\n",
       "        vertical-align: top;\n",
       "    }\n",
       "\n",
       "    .dataframe thead th {\n",
       "        text-align: right;\n",
       "    }\n",
       "</style>\n",
       "<table border=\"1\" class=\"dataframe\">\n",
       "  <thead>\n",
       "    <tr style=\"text-align: right;\">\n",
       "      <th></th>\n",
       "      <th>order_id</th>\n",
       "      <th>creation_time</th>\n",
       "      <th>product_ids</th>\n",
       "      <th>products</th>\n",
       "      <th>price</th>\n",
       "    </tr>\n",
       "  </thead>\n",
       "  <tbody>\n",
       "    <tr>\n",
       "      <th>0</th>\n",
       "      <td>1255</td>\n",
       "      <td>2022-08-26 00:00:19</td>\n",
       "      <td>{75, 22, 53, 84}</td>\n",
       "      <td>[75, 22, 53, 84]</td>\n",
       "      <td>408</td>\n",
       "    </tr>\n",
       "    <tr>\n",
       "      <th>1</th>\n",
       "      <td>1256</td>\n",
       "      <td>2022-08-26 00:02:21</td>\n",
       "      <td>{56, 76, 39}</td>\n",
       "      <td>[56, 76, 39]</td>\n",
       "      <td>250</td>\n",
       "    </tr>\n",
       "    <tr>\n",
       "      <th>2</th>\n",
       "      <td>1257</td>\n",
       "      <td>2022-08-26 00:02:27</td>\n",
       "      <td>{76, 34, 41, 38}</td>\n",
       "      <td>[76, 34, 41, 38]</td>\n",
       "      <td>309</td>\n",
       "    </tr>\n",
       "    <tr>\n",
       "      <th>3</th>\n",
       "      <td>1258</td>\n",
       "      <td>2022-08-26 00:02:56</td>\n",
       "      <td>{74, 6}</td>\n",
       "      <td>[74, 6]</td>\n",
       "      <td>85</td>\n",
       "    </tr>\n",
       "    <tr>\n",
       "      <th>4</th>\n",
       "      <td>1259</td>\n",
       "      <td>2022-08-26 00:03:37</td>\n",
       "      <td>{20, 45, 67, 26}</td>\n",
       "      <td>[20, 45, 67, 26]</td>\n",
       "      <td>228</td>\n",
       "    </tr>\n",
       "    <tr>\n",
       "      <th>...</th>\n",
       "      <td>...</td>\n",
       "      <td>...</td>\n",
       "      <td>...</td>\n",
       "      <td>...</td>\n",
       "      <td>...</td>\n",
       "    </tr>\n",
       "    <tr>\n",
       "      <th>4118</th>\n",
       "      <td>59422</td>\n",
       "      <td>2022-09-08 23:13:03</td>\n",
       "      <td>{84, 8, 24}</td>\n",
       "      <td>[84, 8, 24]</td>\n",
       "      <td>240</td>\n",
       "    </tr>\n",
       "    <tr>\n",
       "      <th>4119</th>\n",
       "      <td>59439</td>\n",
       "      <td>2022-09-08 23:18:05</td>\n",
       "      <td>{9, 25, 75, 30, 6}</td>\n",
       "      <td>[9, 25, 75, 30, 6]</td>\n",
       "      <td>518</td>\n",
       "    </tr>\n",
       "    <tr>\n",
       "      <th>4120</th>\n",
       "      <td>59464</td>\n",
       "      <td>2022-09-08 23:22:27</td>\n",
       "      <td>{60, 41, 46}</td>\n",
       "      <td>[60, 41, 46]</td>\n",
       "      <td>185</td>\n",
       "    </tr>\n",
       "    <tr>\n",
       "      <th>4121</th>\n",
       "      <td>59487</td>\n",
       "      <td>2022-09-08 23:29:06</td>\n",
       "      <td>{9, 62, 77}</td>\n",
       "      <td>[9, 62, 77]</td>\n",
       "      <td>501</td>\n",
       "    </tr>\n",
       "    <tr>\n",
       "      <th>4122</th>\n",
       "      <td>59533</td>\n",
       "      <td>2022-09-08 23:41:24</td>\n",
       "      <td>{17, 85}</td>\n",
       "      <td>[17, 85]</td>\n",
       "      <td>390</td>\n",
       "    </tr>\n",
       "  </tbody>\n",
       "</table>\n",
       "<p>4123 rows × 5 columns</p>\n",
       "</div>"
      ],
      "text/plain": [
       "      order_id       creation_time         product_ids            products  \\\n",
       "0         1255 2022-08-26 00:00:19    {75, 22, 53, 84}    [75, 22, 53, 84]   \n",
       "1         1256 2022-08-26 00:02:21        {56, 76, 39}        [56, 76, 39]   \n",
       "2         1257 2022-08-26 00:02:27    {76, 34, 41, 38}    [76, 34, 41, 38]   \n",
       "3         1258 2022-08-26 00:02:56             {74, 6}             [74, 6]   \n",
       "4         1259 2022-08-26 00:03:37    {20, 45, 67, 26}    [20, 45, 67, 26]   \n",
       "...        ...                 ...                 ...                 ...   \n",
       "4118     59422 2022-09-08 23:13:03         {84, 8, 24}         [84, 8, 24]   \n",
       "4119     59439 2022-09-08 23:18:05  {9, 25, 75, 30, 6}  [9, 25, 75, 30, 6]   \n",
       "4120     59464 2022-09-08 23:22:27        {60, 41, 46}        [60, 41, 46]   \n",
       "4121     59487 2022-09-08 23:29:06         {9, 62, 77}         [9, 62, 77]   \n",
       "4122     59533 2022-09-08 23:41:24            {17, 85}            [17, 85]   \n",
       "\n",
       "      price  \n",
       "0       408  \n",
       "1       250  \n",
       "2       309  \n",
       "3        85  \n",
       "4       228  \n",
       "...     ...  \n",
       "4118    240  \n",
       "4119    518  \n",
       "4120    185  \n",
       "4121    501  \n",
       "4122    390  \n",
       "\n",
       "[4123 rows x 5 columns]"
      ]
     },
     "execution_count": 106,
     "metadata": {},
     "output_type": "execute_result"
    }
   ],
   "source": [
    "orders"
   ]
  },
  {
   "cell_type": "code",
   "execution_count": 107,
   "metadata": {},
   "outputs": [],
   "source": [
    "orders[\"count_products\"]=orders.products.apply(lambda x: len(x))"
   ]
  },
  {
   "cell_type": "code",
   "execution_count": 108,
   "metadata": {},
   "outputs": [],
   "source": [
    "orders_count_products = orders[[\"order_id\", \"count_products\"]]"
   ]
  },
  {
   "cell_type": "code",
   "execution_count": 109,
   "metadata": {},
   "outputs": [],
   "source": [
    "group_count_products = users.merge(orders_count_products, on = 'order_id', how = 'left').drop_duplicates(subset = \"order_id\", keep=False)[[\"group\", \"count_products\"]]"
   ]
  },
  {
   "cell_type": "code",
   "execution_count": 110,
   "metadata": {},
   "outputs": [
    {
     "data": {
      "text/html": [
       "<div>\n",
       "<style scoped>\n",
       "    .dataframe tbody tr th:only-of-type {\n",
       "        vertical-align: middle;\n",
       "    }\n",
       "\n",
       "    .dataframe tbody tr th {\n",
       "        vertical-align: top;\n",
       "    }\n",
       "\n",
       "    .dataframe thead th {\n",
       "        text-align: right;\n",
       "    }\n",
       "</style>\n",
       "<table border=\"1\" class=\"dataframe\">\n",
       "  <thead>\n",
       "    <tr style=\"text-align: right;\">\n",
       "      <th></th>\n",
       "      <th>count_products</th>\n",
       "    </tr>\n",
       "    <tr>\n",
       "      <th>group</th>\n",
       "      <th></th>\n",
       "    </tr>\n",
       "  </thead>\n",
       "  <tbody>\n",
       "    <tr>\n",
       "      <th>0</th>\n",
       "      <td>5103</td>\n",
       "    </tr>\n",
       "    <tr>\n",
       "      <th>1</th>\n",
       "      <td>7980</td>\n",
       "    </tr>\n",
       "  </tbody>\n",
       "</table>\n",
       "</div>"
      ],
      "text/plain": [
       "       count_products\n",
       "group                \n",
       "0                5103\n",
       "1                7980"
      ]
     },
     "execution_count": 110,
     "metadata": {},
     "output_type": "execute_result"
    }
   ],
   "source": [
    "group_count_products.groupby(\"group\").agg({\"count_products\":\"sum\"})"
   ]
  },
  {
   "cell_type": "code",
   "execution_count": 111,
   "metadata": {},
   "outputs": [
    {
     "name": "stderr",
     "output_type": "stream",
     "text": [
      "/opt/tljh/user/lib/python3.7/site-packages/seaborn/distributions.py:2557: FutureWarning: `distplot` is a deprecated function and will be removed in a future version. Please adapt your code to use either `displot` (a figure-level function with similar flexibility) or `histplot` (an axes-level function for histograms).\n",
      "  warnings.warn(msg, FutureWarning)\n"
     ]
    },
    {
     "data": {
      "text/plain": [
       "<matplotlib.axes._subplots.AxesSubplot at 0x7fa4fd24bc18>"
      ]
     },
     "execution_count": 111,
     "metadata": {},
     "output_type": "execute_result"
    },
    {
     "data": {
      "image/png": "[encoded data removed]",
      "text/plain": [
       "<Figure size 432x288 with 1 Axes>"
      ]
     },
     "metadata": {
      "needs_background": "light"
     },
     "output_type": "display_data"
    }
   ],
   "source": [
    "sns.distplot(group_count_products.query(\"group==0\").count_products)"
   ]
  },
  {
   "cell_type": "markdown",
   "metadata": {},
   "source": [
    "Распределение количества покупок не является нормальным"
   ]
  },
  {
   "cell_type": "code",
   "execution_count": 112,
   "metadata": {},
   "outputs": [
    {
     "data": {
      "text/plain": [
       "ShapiroResult(statistic=0.9359715580940247, pvalue=4.123595846567559e-25)"
      ]
     },
     "execution_count": 112,
     "metadata": {},
     "output_type": "execute_result"
    }
   ],
   "source": [
    "stats.shapiro(group_count_products.query(\"group==0\").count_products)"
   ]
  },
  {
   "cell_type": "markdown",
   "metadata": {},
   "source": [
    "Сформулируем Н0 : среднее количество товаров по заказу в 0 группе значимо не отличается от аналогичного показателя в группе 1\n",
    "Воспользуемся критерием Манна-Уитни и получим p_value>0.05, что не позволяет отклонить Н0"
   ]
  },
  {
   "cell_type": "code",
   "execution_count": 113,
   "metadata": {},
   "outputs": [
    {
     "data": {
      "text/plain": [
       "MannwhitneyuResult(statistic=1806128.0, pvalue=0.7083277937581569)"
      ]
     },
     "execution_count": 113,
     "metadata": {},
     "output_type": "execute_result"
    }
   ],
   "source": [
    "stats.mannwhitneyu(group_count_products.query(\"group==0\").count_products, group_count_products.query(\"group==1\").count_products)"
   ]
  },
  {
   "cell_type": "markdown",
   "metadata": {},
   "source": [
    "Аналогичным образом, как с заказами и выручкой, посмотрим изменилось ли общее количество проданных продуктов \n",
    "Н0: Количество проданных продуктов не отличается от ожидаемого"
   ]
  },
  {
   "cell_type": "code",
   "execution_count": 114,
   "metadata": {},
   "outputs": [],
   "source": [
    "group_count_product = group_count_products.groupby(\"group\").agg({\"count_products\":\"sum\"})"
   ]
  },
  {
   "cell_type": "code",
   "execution_count": 115,
   "metadata": {},
   "outputs": [],
   "source": [
    "group_count_product[\"wait_count_products\"] = group_count_product.count_products.sum()/2"
   ]
  },
  {
   "cell_type": "markdown",
   "metadata": {},
   "source": [
    "Получаем p-value < 0.05, следовательно количество проданных продуктов пользователям из 1-ой группы стат. значимо больше количества продуктов купленных пользователям 0-ой группы "
   ]
  },
  {
   "cell_type": "code",
   "execution_count": 116,
   "metadata": {},
   "outputs": [
    {
     "data": {
      "text/plain": [
       "Power_divergenceResult(statistic=664.811639051332, pvalue=1.3425385375169871e-146)"
      ]
     },
     "execution_count": 116,
     "metadata": {},
     "output_type": "execute_result"
    }
   ],
   "source": [
    "scipy.stats.chisquare(group_count_product.wait_count_products, f_exp = group_count_product.count_products)"
   ]
  },
  {
   "cell_type": "markdown",
   "metadata": {},
   "source": [
    "Согласно анализу по проведенному А/В тесту можем сделать вывод об увеличении количества заказов (без значимого увеличения отмененных заказов) в тестируемой группе, увеличении полученной прибыли в 1-ой группе, а так же увеличении количества проданных товаров (при отсутствии увеличения среднего количества проданных товаров в заказе)\n",
    "\n",
    "Делаем вывод о необходимости развертывания новой системы для всех пользователей "
   ]
  }
 ],
 "metadata": {
  "kernelspec": {
   "display_name": "Python 3",
   "language": "python",
   "name": "python3"
  },
  "language_info": {
   "codemirror_mode": {
    "name": "ipython",
    "version": 3
   },
   "file_extension": ".py",
   "mimetype": "text/x-python",
   "name": "python",
   "nbconvert_exporter": "python",
   "pygments_lexer": "ipython3",
   "version": "3.7.3"
  }
 },
 "nbformat": 4,
 "nbformat_minor": 4
}
